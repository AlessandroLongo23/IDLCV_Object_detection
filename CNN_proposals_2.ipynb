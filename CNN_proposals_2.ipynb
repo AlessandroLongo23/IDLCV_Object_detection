{
 "cells": [
  {
   "cell_type": "code",
   "execution_count": 1,
   "metadata": {},
   "outputs": [],
   "source": [
    "import os\n",
    "import glob\n",
    "import json\n",
    "import numpy as np\n",
    "from PIL import Image\n",
    "import torch\n",
    "from torch.utils.data import Dataset, DataLoader, WeightedRandomSampler\n",
    "from sklearn.preprocessing import LabelEncoder\n",
    "from sklearn.model_selection import train_test_split\n",
    "from torchvision import transforms\n",
    "from collections import Counter\n",
    "import torch.nn as nn\n",
    "import torch.nn.functional as F\n",
    "import torch.optim as optim\n",
    "from tqdm import tqdm  # For progress display\n"
   ]
  },
  {
   "cell_type": "markdown",
   "metadata": {},
   "source": [
    "Custom Dataset class"
   ]
  },
  {
   "cell_type": "code",
   "execution_count": 2,
   "metadata": {},
   "outputs": [],
   "source": [
    "class ProposalDataset(Dataset):\n",
    "    def __init__(self, labeled_proposals_dir, images_dir, image_ids, label_encoder, transform=None):\n",
    "        self.labeled_proposals_dir = labeled_proposals_dir\n",
    "        self.images_dir = images_dir\n",
    "        self.image_ids = image_ids\n",
    "        self.transform = transform\n",
    "        self.label_encoder = label_encoder\n",
    "\n",
    "        # Define acceptable image extensions\n",
    "        image_extensions = ['.jpg']\n",
    "\n",
    "        self.samples = []\n",
    "        for image_id in self.image_ids:\n",
    "            # Strip file extension if present\n",
    "            image_id = os.path.splitext(image_id)[0]\n",
    "            proposal_file = os.path.join(self.labeled_proposals_dir, image_id + '_labeled_proposals.npy')\n",
    "\n",
    "            # Search for image files with known extensions (case-insensitive)\n",
    "            image_files = []\n",
    "            for ext in image_extensions:\n",
    "                pattern = os.path.join(self.images_dir, image_id + ext)\n",
    "                image_files.extend(glob.glob(pattern))\n",
    "                # Also check for uppercase extensions\n",
    "                pattern_upper = os.path.join(self.images_dir, image_id + ext.upper())\n",
    "                image_files.extend(glob.glob(pattern_upper))\n",
    "\n",
    "            if not image_files:\n",
    "                print(f\"No image files found for '{image_id}' in '{self.images_dir}'. Skipping.\")\n",
    "                continue\n",
    "            image_path = image_files[0]  # Use the first matching image file\n",
    "\n",
    "            if not os.path.exists(proposal_file):\n",
    "                print(f\"Labeled proposals for '{image_id}' not found at '{proposal_file}'. Skipping.\")\n",
    "                continue\n",
    "\n",
    "            labeled_proposals = np.load(proposal_file, allow_pickle=True)\n",
    "            if len(labeled_proposals) == 0:\n",
    "                print(f\"No proposals found in '{proposal_file}'. Skipping '{image_id}'.\")\n",
    "                continue\n",
    "\n",
    "            for proposal in labeled_proposals:\n",
    "                if 'box' not in proposal or 'label' not in proposal:\n",
    "                    print(f\"Invalid proposal format in '{proposal_file}'. Skipping proposal.\")\n",
    "                    continue\n",
    "                box = proposal['box']\n",
    "                label = proposal['label']\n",
    "                self.samples.append({'image_path': image_path, 'box': box, 'label': label})\n",
    "\n",
    "        print(f\"Loaded {len(self.samples)} samples for dataset with {len(self.image_ids)} image IDs.\")\n",
    "\n",
    "    def __len__(self):\n",
    "        return len(self.samples)\n",
    "\n",
    "    def __getitem__(self, idx):\n",
    "        sample = self.samples[idx]\n",
    "        image_path = sample['image_path']\n",
    "        box = sample['box']\n",
    "        label = sample['label']\n",
    "\n",
    "        # Load image\n",
    "        with Image.open(image_path) as img:\n",
    "            # Crop the proposal\n",
    "            x, y, w, h = box\n",
    "            cropped_img = img.crop((x, y, x + w, y + h)).convert('RGB')\n",
    "            if self.transform:\n",
    "                cropped_img = self.transform(cropped_img)\n",
    "            else:\n",
    "                # Default transformations\n",
    "                cropped_img = cropped_img.resize((224, 224))\n",
    "                cropped_img = np.array(cropped_img).astype(np.float32) / 255.0\n",
    "                # Convert HWC to CHW format\n",
    "                cropped_img = np.transpose(cropped_img, (2, 0, 1))\n",
    "                cropped_img = torch.tensor(cropped_img)\n",
    "\n",
    "        # Encode label\n",
    "        label_encoded = self.label_encoder.transform([label])[0]\n",
    "        label_encoded = torch.tensor(label_encoded, dtype=torch.long)\n",
    "\n",
    "        return cropped_img, label_encoded\n"
   ]
  },
  {
   "cell_type": "markdown",
   "metadata": {},
   "source": [
    "# Handle class Imbalance\n",
    "\n",
    "\n",
    "1. The CrossEntropy fiunction can accept a weight parameter, which assigns a weight to each class. This makes the loss fucntion pay more attention to underrrepresented classes.\n",
    "2. To compute_class_weights: weights= total_samples/(num_classes*count)\n",
    "3. The WeightedRandomSampler allows the DataLoader to sample elements based on assigned weights, ensuring that each class is represented proportionally during training.\n",
    "\n",
    "Basically Instead of using a fixed ratio of 75-25 it calculates the ratios by counting the negative and positive classes. Then this is "
   ]
  },
  {
   "cell_type": "code",
   "execution_count": 3,
   "metadata": {},
   "outputs": [],
   "source": [
    "def compute_class_weights(dataset, num_classes):\n",
    "    \"\"\"\n",
    "    Computes class weights based on the dataset.\n",
    "\n",
    "    Args:\n",
    "        dataset (Dataset): Instance of ProposalDataset.\n",
    "        num_classes (int): Total number of classes.\n",
    "\n",
    "    Returns:\n",
    "        torch.Tensor: Class weights.\n",
    "    \"\"\"\n",
    "    # Count the frequency of each class\n",
    "    labels = [sample['label'] for sample in dataset.samples]\n",
    "    label_counts = Counter(labels)\n",
    "    total_samples = len(labels)\n",
    "    class_weights = []\n",
    "\n",
    "    for label in dataset.label_encoder.classes_:\n",
    "        count = label_counts.get(label, 0)\n",
    "        weight = total_samples / (num_classes * count) if count > 0 else 0\n",
    "        class_weights.append(weight)\n",
    "\n",
    "    class_weights = torch.tensor(class_weights, dtype=torch.float)\n",
    "    return class_weights\n",
    "\n",
    "def create_sampler(dataset, class_weights):\n",
    "    \"\"\"\n",
    "    Creates a weighted sampler to handle class imbalance.\n",
    "\n",
    "    Args:\n",
    "        dataset (Dataset): Instance of ProposalDataset.\n",
    "        class_weights (torch.Tensor): Class weights.\n",
    "\n",
    "    Returns:\n",
    "        WeightedRandomSampler: Sampler for DataLoader.\n",
    "    \"\"\"\n",
    "    # Get the labels for all samples\n",
    "    labels = [dataset.label_encoder.transform([sample['label']])[0] for sample in dataset.samples]\n",
    "    sample_weights = [class_weights[label] for label in labels]\n",
    "    sampler = WeightedRandomSampler(sample_weights, num_samples=len(sample_weights), replacement=True)\n",
    "    return sampler\n"
   ]
  },
  {
   "cell_type": "markdown",
   "metadata": {},
   "source": [
    "DataLoader function"
   ]
  },
  {
   "cell_type": "code",
   "execution_count": 4,
   "metadata": {},
   "outputs": [],
   "source": [
    "def get_data_loaders(labeled_proposals_dir, images_dir, splits_file, batch_size=32):\n",
    "    # Load splits\n",
    "    with open(splits_file, 'r') as f:\n",
    "        splits = json.load(f)\n",
    "    train_ids = splits.get('train', [])\n",
    "    test_ids = splits.get('test', [])\n",
    "\n",
    "    # Strip file extensions from image IDs\n",
    "    train_ids = [os.path.splitext(image_id)[0] for image_id in train_ids]\n",
    "    test_ids = [os.path.splitext(image_id)[0] for image_id in test_ids]\n",
    "\n",
    "    # Further split training IDs for validation\n",
    "    train_ids, val_ids = train_test_split(train_ids, test_size=0.2, random_state=42)\n",
    "\n",
    "    # Fit label encoder on all labels\n",
    "    label_encoder = LabelEncoder()\n",
    "    all_labels = []\n",
    "    for ids in [train_ids, val_ids, test_ids]:\n",
    "        for image_id in ids:\n",
    "            image_id = os.path.splitext(image_id)[0]  # Ensure no extension\n",
    "            proposal_file = os.path.join(labeled_proposals_dir, image_id + '_labeled_proposals.npy')\n",
    "            if os.path.exists(proposal_file):\n",
    "                labeled_proposals = np.load(proposal_file, allow_pickle=True)\n",
    "                labels = [proposal['label'] for proposal in labeled_proposals]\n",
    "                all_labels.extend(labels)\n",
    "    label_encoder.fit(all_labels)\n",
    "    num_classes = len(label_encoder.classes_)\n",
    "\n",
    "    # Define transformations\n",
    "    \"\"\"  transform = transforms.Compose([\n",
    "        transforms.Resize((224, 224)),\n",
    "        transforms.ToTensor(),  # Converts to [0, 1] and rearranges dimensions\n",
    "    ])\n",
    "    \"\"\"\n",
    "    \"\"\"    transform = transforms.Compose([\n",
    "        transforms.Resize(256),\n",
    "        transforms.CenterCrop(224),\n",
    "        transforms.ToTensor(),\n",
    "    ]) \"\"\"\n",
    "    transform = transforms.Compose([\n",
    "    transforms.Resize(256),\n",
    "    transforms.Pad((0, 0, 256, 256), fill=0, padding_mode='constant'),  # Adjust padding as needed\n",
    "    transforms.CenterCrop(224),\n",
    "    transforms.ToTensor(),\n",
    "])\n",
    "    # Create datasets\n",
    "    train_dataset = ProposalDataset(labeled_proposals_dir, images_dir, train_ids, label_encoder, transform=transform)\n",
    "    val_dataset = ProposalDataset(labeled_proposals_dir, images_dir, val_ids, label_encoder, transform=transform)\n",
    "    test_dataset = ProposalDataset(labeled_proposals_dir, images_dir, test_ids, label_encoder, transform=transform)\n",
    "\n",
    "    # Compute class weights\n",
    "    class_weights = compute_class_weights(train_dataset, num_classes)\n",
    "\n",
    "    # Create sampler for training dataset\n",
    "    sampler = create_sampler(train_dataset, class_weights)\n",
    "\n",
    "    # Create DataLoaders\n",
    "    train_loader = DataLoader(train_dataset, batch_size=batch_size, sampler=sampler)\n",
    "    val_loader = DataLoader(val_dataset, batch_size=batch_size, shuffle=False)\n",
    "    test_loader = DataLoader(test_dataset, batch_size=batch_size, shuffle=False)\n",
    "\n",
    "    # Print number of samples\n",
    "    print(f\"Number of training samples: {len(train_dataset)}\")\n",
    "    print(f\"Number of validation samples: {len(val_dataset)}\")\n",
    "    print(f\"Number of testing samples: {len(test_dataset)}\")\n",
    "\n",
    "    return train_loader, val_loader, test_loader, num_classes, label_encoder, class_weights\n"
   ]
  },
  {
   "cell_type": "markdown",
   "metadata": {},
   "source": [
    "CNN"
   ]
  },
  {
   "cell_type": "code",
   "execution_count": 5,
   "metadata": {},
   "outputs": [],
   "source": [
    "class ProposalClassifierCNN(nn.Module):\n",
    "    def __init__(self, num_classes):\n",
    "        super(ProposalClassifierCNN, self).__init__()\n",
    "        # Convolutional layers\n",
    "        self.conv1 = nn.Conv2d(3, 32, kernel_size=3, padding=1)  # Assuming RGB images\n",
    "        self.pool = nn.MaxPool2d(2, 2)  # Max pooling layer\n",
    "        self.conv2 = nn.Conv2d(32, 64, kernel_size=3, padding=1)\n",
    "    \n",
    "        # Fully connected layers\n",
    "        self.fc1 = nn.Linear(64 * 56 * 56, 128)  # Adjust based on input image size\n",
    "        self.dropout = nn.Dropout(0.5)\n",
    "        self.fc2 = nn.Linear(128, num_classes)\n",
    "\n",
    "    def forward(self, x):\n",
    "        x = self.pool(F.relu(self.conv1(x)))  # First conv layer\n",
    "        x = self.pool(F.relu(self.conv2(x)))  # Second conv layer\n",
    "        x = x.view(x.size(0), -1)            # Flatten\n",
    "        x = F.relu(self.fc1(x))              # Fully connected layer\n",
    "        x = self.dropout(x)\n",
    "        x = self.fc2(x)                      # Output layer\n",
    "        return x\n"
   ]
  },
  {
   "cell_type": "markdown",
   "metadata": {},
   "source": [
    "Evaluation Funtion"
   ]
  },
  {
   "cell_type": "code",
   "execution_count": 6,
   "metadata": {},
   "outputs": [],
   "source": [
    "def evaluate_model(model, data_loader, criterion, device):\n",
    "    \"\"\"\n",
    "    Evaluates the model on a dataset.\n",
    "\n",
    "    Args:\n",
    "        model (nn.Module): Trained model.\n",
    "        data_loader (DataLoader): DataLoader for the dataset.\n",
    "        criterion: Loss function.\n",
    "        device: Device ('cpu' or 'cuda').\n",
    "\n",
    "    Returns:\n",
    "        float: Average loss.\n",
    "        float: Accuracy.\n",
    "    \"\"\"\n",
    "    model.eval()\n",
    "    running_loss = 0.0\n",
    "    total_correct = 0\n",
    "    total_samples = 0\n",
    "\n",
    "    with torch.no_grad():\n",
    "        for images, labels in data_loader:\n",
    "            images = images.to(device)\n",
    "            labels = labels.to(device)\n",
    "\n",
    "            outputs = model(images)\n",
    "            loss = criterion(outputs, labels)\n",
    "\n",
    "            running_loss += loss.item() * images.size(0)\n",
    "            _, predicted = torch.max(outputs.data, 1)\n",
    "            total_correct += (predicted == labels).sum().item()\n",
    "            total_samples += labels.size(0)\n",
    "\n",
    "    avg_loss = running_loss / total_samples\n",
    "    accuracy = total_correct / total_samples\n",
    "\n",
    "    return avg_loss, accuracy\n"
   ]
  },
  {
   "cell_type": "markdown",
   "metadata": {},
   "source": [
    "Training function"
   ]
  },
  {
   "cell_type": "code",
   "execution_count": 7,
   "metadata": {},
   "outputs": [],
   "source": [
    "def train_model(model, train_loader, val_loader, num_epochs, criterion, optimizer, device):\n",
    "    model.to(device)\n",
    "    history = {'train_loss': [], 'train_acc': [], 'val_loss': [], 'val_acc': []}\n",
    "    \n",
    "    for epoch in range(num_epochs):\n",
    "        model.train()\n",
    "        running_loss = 0.0\n",
    "        total_correct = 0\n",
    "        total_samples = 0\n",
    "\n",
    "        with tqdm(total=len(train_loader), desc=f'Epoch {epoch+1}/{num_epochs}', unit='batch') as pbar:\n",
    "            for images, labels in train_loader:\n",
    "                images = images.to(device)\n",
    "                labels = labels.to(device)\n",
    "\n",
    "                optimizer.zero_grad()\n",
    "                outputs = model(images)\n",
    "                loss = criterion(outputs, labels)\n",
    "\n",
    "                loss.backward()\n",
    "                optimizer.step()\n",
    "\n",
    "                running_loss += loss.item() * images.size(0)\n",
    "                _, predicted = torch.max(outputs.data, 1)\n",
    "                total_correct += (predicted == labels).sum().item()\n",
    "                total_samples += labels.size(0)\n",
    "\n",
    "                # Update progress bar\n",
    "                pbar.set_postfix({'Loss': loss.item()})\n",
    "                pbar.update(1)\n",
    "\n",
    "        epoch_loss = running_loss / total_samples\n",
    "        epoch_acc = total_correct / total_samples\n",
    "        history['train_loss'].append(epoch_loss)\n",
    "        history['train_acc'].append(epoch_acc)\n",
    "\n",
    "        # Validation\n",
    "        val_loss, val_acc = evaluate_model(model, val_loader, criterion, device)\n",
    "        history['val_loss'].append(val_loss)\n",
    "        history['val_acc'].append(val_acc)\n",
    "\n",
    "        print(f'Epoch [{epoch+1}/{num_epochs}], '\n",
    "              f'Train Loss: {epoch_loss:.4f}, Train Acc: {epoch_acc:.4f}, '\n",
    "              f'Val Loss: {val_loss:.4f}, Val Acc: {val_acc:.4f}\\n')\n",
    "\n",
    "    return model, history\n"
   ]
  },
  {
   "cell_type": "code",
   "execution_count": 8,
   "metadata": {},
   "outputs": [],
   "source": [
    "import matplotlib.pyplot as plt\n",
    "def plot_training_history(history):\n",
    "    epochs = range(1, len(history['train_loss']) + 1)\n",
    "\n",
    "    # Plot Loss\n",
    "    plt.figure(figsize=(12, 5))\n",
    "    plt.subplot(1, 2, 1)\n",
    "    plt.plot(epochs, history['train_loss'], 'b-', label='Training Loss')\n",
    "    plt.plot(epochs, history['val_loss'], 'r-', label='Validation Loss')\n",
    "    plt.title('Training and Validation Loss')\n",
    "    plt.xlabel('Epoch')\n",
    "    plt.ylabel('Loss')\n",
    "    plt.legend()\n",
    "\n",
    "    # Plot Accuracy\n",
    "    plt.subplot(1, 2, 2)\n",
    "    plt.plot(epochs, history['train_acc'], 'b-', label='Training Accuracy')\n",
    "    plt.plot(epochs, history['val_acc'], 'r-', label='Validation Accuracy')\n",
    "    plt.title('Training and Validation Accuracy')\n",
    "    plt.xlabel('Epoch')\n",
    "    plt.ylabel('Accuracy')\n",
    "    plt.legend()\n",
    "\n",
    "    plt.tight_layout()\n",
    "    plt.show()\n"
   ]
  },
  {
   "cell_type": "code",
   "execution_count": 9,
   "metadata": {},
   "outputs": [],
   "source": [
    "from sklearn.metrics import confusion_matrix, ConfusionMatrixDisplay\n",
    "\n",
    "def plot_confusion_matrix(model, data_loader, label_encoder, device):\n",
    "    model.eval()\n",
    "    all_preds = []\n",
    "    all_labels = []\n",
    "    with torch.no_grad():\n",
    "        for images, labels in data_loader:\n",
    "            images = images.to(device)\n",
    "            labels = labels.to(device)\n",
    "\n",
    "            outputs = model(images)\n",
    "            _, predicted = torch.max(outputs.data, 1)\n",
    "\n",
    "            all_preds.extend(predicted.cpu().numpy())\n",
    "            all_labels.extend(labels.cpu().numpy())\n",
    "\n",
    "    cm = confusion_matrix(all_labels, all_preds)\n",
    "    disp = ConfusionMatrixDisplay(confusion_matrix=cm, display_labels=label_encoder.classes_)\n",
    "    disp.plot(cmap=plt.cm.Blues)\n",
    "    plt.title('Confusion Matrix on Validation Set')\n",
    "    plt.show()\n"
   ]
  },
  {
   "cell_type": "markdown",
   "metadata": {},
   "source": [
    "Main"
   ]
  },
  {
   "cell_type": "code",
   "execution_count": 10,
   "metadata": {},
   "outputs": [],
   "source": [
    "def main():\n",
    "    # Directories (update paths accordingly)\n",
    "    labeled_proposals_dir = '/home/arth/Desktop/various/CV/poster3/Potholes/Potholes/NMS/Labeled_Proposals_EB'  # Update this path\n",
    "    images_dir = 'Potholes/Potholes/annotated-images'                 # Update this path\n",
    "    splits_file = '/home/arth/Desktop/various/CV/poster3/Potholes/Potholes/splits.json'                     # Update this path\n",
    "\n",
    "    # Hyperparameters\n",
    "    num_epochs = 10\n",
    "    batch_size = 264\n",
    "    learning_rate = 0.01\n",
    "\n",
    "    # Device configuration\n",
    "    device = torch.device('cuda' if torch.cuda.is_available() else 'cpu')\n",
    "\n",
    "    # Get DataLoaders\n",
    "    train_loader, val_loader, test_loader, num_classes, label_encoder, class_weights = get_data_loaders(\n",
    "        labeled_proposals_dir, images_dir, splits_file, batch_size=batch_size\n",
    "    )\n",
    "\n",
    "    # Initialize model\n",
    "    model = ProposalClassifierCNN(num_classes)\n",
    "\n",
    "    # Loss and optimizer\n",
    "    # Use class weights in the loss function to handle class imbalance\n",
    "    class_weights_tensor = class_weights.to(device)\n",
    "    criterion = nn.CrossEntropyLoss(weight=class_weights_tensor)\n",
    "    optimizer = optim.Adam(model.parameters(), lr=learning_rate)\n",
    "\n",
    "    # Train the model\n",
    "    # Correctly unpack the returned tuple\n",
    "    model, history = train_model(model, train_loader, val_loader, num_epochs, criterion, optimizer, device)\n",
    "\n",
    "    # Now you can use both `model` and `history` as needed\n",
    "    # For example, evaluate on the test set\n",
    "    test_loss, test_acc = evaluate_model(model, test_loader, criterion, device)\n",
    "    print(f'Test Loss: {test_loss:.4f}, Test Accuracy: {test_acc:.4f}')\n",
    "\n",
    "    # Save the model\n",
    "    torch.save(model.state_dict(), 'proposal_classifier_NMS_box.pth')\n",
    "    print(\"Model saved as 'proposal_classifier.pth'.\")\n",
    "\n",
    "    # Optionally, plot training history and confusion matrix here\n",
    "    plot_training_history(history)\n",
    "    plot_confusion_matrix(model, val_loader, label_encoder, device)\n"
   ]
  },
  {
   "cell_type": "markdown",
   "metadata": {},
   "source": [
    "Run"
   ]
  },
  {
   "cell_type": "code",
   "execution_count": 11,
   "metadata": {},
   "outputs": [
    {
     "name": "stdout",
     "output_type": "stream",
     "text": [
      "Labeled proposals for 'img-71' not found at '/home/arth/Desktop/various/CV/poster3/Potholes/Potholes/NMS/Labeled_Proposals_EB/img-71_labeled_proposals.npy'. Skipping.\n",
      "Labeled proposals for 'img-129' not found at '/home/arth/Desktop/various/CV/poster3/Potholes/Potholes/NMS/Labeled_Proposals_EB/img-129_labeled_proposals.npy'. Skipping.\n",
      "Labeled proposals for 'img-191' not found at '/home/arth/Desktop/various/CV/poster3/Potholes/Potholes/NMS/Labeled_Proposals_EB/img-191_labeled_proposals.npy'. Skipping.\n",
      "Labeled proposals for 'img-85' not found at '/home/arth/Desktop/various/CV/poster3/Potholes/Potholes/NMS/Labeled_Proposals_EB/img-85_labeled_proposals.npy'. Skipping.\n",
      "Labeled proposals for 'img-48' not found at '/home/arth/Desktop/various/CV/poster3/Potholes/Potholes/NMS/Labeled_Proposals_EB/img-48_labeled_proposals.npy'. Skipping.\n",
      "Labeled proposals for 'img-130' not found at '/home/arth/Desktop/various/CV/poster3/Potholes/Potholes/NMS/Labeled_Proposals_EB/img-130_labeled_proposals.npy'. Skipping.\n",
      "Labeled proposals for 'img-224' not found at '/home/arth/Desktop/various/CV/poster3/Potholes/Potholes/NMS/Labeled_Proposals_EB/img-224_labeled_proposals.npy'. Skipping.\n",
      "Labeled proposals for 'img-69' not found at '/home/arth/Desktop/various/CV/poster3/Potholes/Potholes/NMS/Labeled_Proposals_EB/img-69_labeled_proposals.npy'. Skipping.\n",
      "Labeled proposals for 'img-134' not found at '/home/arth/Desktop/various/CV/poster3/Potholes/Potholes/NMS/Labeled_Proposals_EB/img-134_labeled_proposals.npy'. Skipping.\n",
      "Labeled proposals for 'img-61' not found at '/home/arth/Desktop/various/CV/poster3/Potholes/Potholes/NMS/Labeled_Proposals_EB/img-61_labeled_proposals.npy'. Skipping.\n",
      "Loaded 14406 samples for dataset with 425 image IDs.\n",
      "Labeled proposals for 'img-273' not found at '/home/arth/Desktop/various/CV/poster3/Potholes/Potholes/NMS/Labeled_Proposals_EB/img-273_labeled_proposals.npy'. Skipping.\n",
      "Loaded 3622 samples for dataset with 107 image IDs.\n",
      "Labeled proposals for 'img-138' not found at '/home/arth/Desktop/various/CV/poster3/Potholes/Potholes/NMS/Labeled_Proposals_EB/img-138_labeled_proposals.npy'. Skipping.\n",
      "Labeled proposals for 'img-147' not found at '/home/arth/Desktop/various/CV/poster3/Potholes/Potholes/NMS/Labeled_Proposals_EB/img-147_labeled_proposals.npy'. Skipping.\n",
      "Labeled proposals for 'img-9' not found at '/home/arth/Desktop/various/CV/poster3/Potholes/Potholes/NMS/Labeled_Proposals_EB/img-9_labeled_proposals.npy'. Skipping.\n",
      "Labeled proposals for 'img-22' not found at '/home/arth/Desktop/various/CV/poster3/Potholes/Potholes/NMS/Labeled_Proposals_EB/img-22_labeled_proposals.npy'. Skipping.\n",
      "Loaded 4453 samples for dataset with 133 image IDs.\n",
      "Number of training samples: 14406\n",
      "Number of validation samples: 3622\n",
      "Number of testing samples: 4453\n"
     ]
    },
    {
     "name": "stderr",
     "output_type": "stream",
     "text": [
      "Epoch 1/10: 100%|██████████| 55/55 [01:11<00:00,  1.30s/batch, Loss=0.0985]\n"
     ]
    },
    {
     "name": "stdout",
     "output_type": "stream",
     "text": [
      "Epoch [1/10], Train Loss: 0.6181, Train Acc: 0.5207, Val Loss: 1.6580, Val Acc: 0.1692\n",
      "\n"
     ]
    },
    {
     "name": "stderr",
     "output_type": "stream",
     "text": [
      "Epoch 2/10: 100%|██████████| 55/55 [01:11<00:00,  1.30s/batch, Loss=0.156] \n"
     ]
    },
    {
     "name": "stdout",
     "output_type": "stream",
     "text": [
      "Epoch [2/10], Train Loss: 0.1166, Train Acc: 0.5432, Val Loss: 1.6564, Val Acc: 0.1640\n",
      "\n"
     ]
    },
    {
     "name": "stderr",
     "output_type": "stream",
     "text": [
      "Epoch 3/10: 100%|██████████| 55/55 [01:11<00:00,  1.30s/batch, Loss=0.0918]\n"
     ]
    },
    {
     "name": "stdout",
     "output_type": "stream",
     "text": [
      "Epoch [3/10], Train Loss: 0.1099, Train Acc: 0.5695, Val Loss: 1.5118, Val Acc: 0.1447\n",
      "\n"
     ]
    },
    {
     "name": "stderr",
     "output_type": "stream",
     "text": [
      "Epoch 4/10: 100%|██████████| 55/55 [01:11<00:00,  1.30s/batch, Loss=0.106] \n"
     ]
    },
    {
     "name": "stdout",
     "output_type": "stream",
     "text": [
      "Epoch [4/10], Train Loss: 0.1040, Train Acc: 0.5805, Val Loss: 1.7308, Val Acc: 0.1946\n",
      "\n"
     ]
    },
    {
     "name": "stderr",
     "output_type": "stream",
     "text": [
      "Epoch 5/10: 100%|██████████| 55/55 [01:12<00:00,  1.31s/batch, Loss=0.131] \n"
     ]
    },
    {
     "name": "stdout",
     "output_type": "stream",
     "text": [
      "Epoch [5/10], Train Loss: 0.0969, Train Acc: 0.6008, Val Loss: 1.7567, Val Acc: 0.2430\n",
      "\n"
     ]
    },
    {
     "name": "stderr",
     "output_type": "stream",
     "text": [
      "Epoch 6/10: 100%|██████████| 55/55 [01:11<00:00,  1.30s/batch, Loss=0.0784]\n"
     ]
    },
    {
     "name": "stdout",
     "output_type": "stream",
     "text": [
      "Epoch [6/10], Train Loss: 0.0917, Train Acc: 0.6134, Val Loss: 1.7402, Val Acc: 0.2626\n",
      "\n"
     ]
    },
    {
     "name": "stderr",
     "output_type": "stream",
     "text": [
      "Epoch 7/10: 100%|██████████| 55/55 [01:12<00:00,  1.31s/batch, Loss=0.106] \n"
     ]
    },
    {
     "name": "stdout",
     "output_type": "stream",
     "text": [
      "Epoch [7/10], Train Loss: 0.0916, Train Acc: 0.6216, Val Loss: 1.2817, Val Acc: 0.2979\n",
      "\n"
     ]
    },
    {
     "name": "stderr",
     "output_type": "stream",
     "text": [
      "Epoch 8/10: 100%|██████████| 55/55 [01:11<00:00,  1.31s/batch, Loss=0.0731]\n"
     ]
    },
    {
     "name": "stdout",
     "output_type": "stream",
     "text": [
      "Epoch [8/10], Train Loss: 0.0914, Train Acc: 0.6318, Val Loss: 1.5795, Val Acc: 0.3123\n",
      "\n"
     ]
    },
    {
     "name": "stderr",
     "output_type": "stream",
     "text": [
      "Epoch 9/10: 100%|██████████| 55/55 [01:12<00:00,  1.32s/batch, Loss=0.0779]\n"
     ]
    },
    {
     "name": "stdout",
     "output_type": "stream",
     "text": [
      "Epoch [9/10], Train Loss: 0.0822, Train Acc: 0.6382, Val Loss: 1.2991, Val Acc: 0.3219\n",
      "\n"
     ]
    },
    {
     "name": "stderr",
     "output_type": "stream",
     "text": [
      "Epoch 10/10: 100%|██████████| 55/55 [01:12<00:00,  1.32s/batch, Loss=0.075] \n"
     ]
    },
    {
     "name": "stdout",
     "output_type": "stream",
     "text": [
      "Epoch [10/10], Train Loss: 0.0754, Train Acc: 0.6610, Val Loss: 1.2110, Val Acc: 0.3567\n",
      "\n",
      "Test Loss: 1.5961, Test Accuracy: 0.3573\n",
      "Model saved as 'proposal_classifier.pth'.\n"
     ]
    },
    {
     "data": {
      "image/png": "[encoded data removed]",
      "text/plain": [
       "<Figure size 1200x500 with 2 Axes>"
      ]
     },
     "metadata": {},
     "output_type": "display_data"
    },
    {
     "data": {
      "image/png": "[encoded data removed]",
      "text/plain": [
       "<Figure size 640x480 with 2 Axes>"
      ]
     },
     "metadata": {},
     "output_type": "display_data"
    }
   ],
   "source": [
    "if __name__ == \"__main__\":\n",
    "    main()"
   ]
  },
  {
   "cell_type": "markdown",
   "metadata": {},
   "source": [
    "Fine tune pretrained networks(on ImageNet) by freezing all leyers but the final fully connected layer to match the number of classes in your dataset."
   ]
  },
  {
   "cell_type": "markdown",
   "metadata": {},
   "source": [
    "ResNet"
   ]
  },
  {
   "cell_type": "code",
   "execution_count": 12,
   "metadata": {},
   "outputs": [],
   "source": [
    "\n",
    "import torchvision.models as models\n",
    "class ProposalClassifierResNet(nn.Module):\n",
    "    def __init__(self, num_classes, pretrained=True):\n",
    "        super(ProposalClassifierResNet, self).__init__()\n",
    "        # Load pre-trained ResNet-18\n",
    "        self.model = models.resnet18(pretrained=pretrained)\n",
    "        \n",
    "        # Freeze all layers if you don't want to fine-tune\n",
    "        for param in self.model.parameters():\n",
    "            param.requires_grad = False\n",
    "        \n",
    "        # Replace the final fully connected layer\n",
    "        num_ftrs = self.model.fc.in_features\n",
    "        self.model.fc = nn.Linear(num_ftrs, num_classes)\n",
    "        \n",
    "    def forward(self, x):\n",
    "        return self.model(x)\n"
   ]
  },
  {
   "cell_type": "code",
   "execution_count": 13,
   "metadata": {},
   "outputs": [
    {
     "name": "stdout",
     "output_type": "stream",
     "text": [
      "Labeled proposals for 'img-71' not found at '/home/arth/Desktop/various/CV/poster3/Potholes/Potholes/NMS/Labeled_Proposals_EB/img-71_labeled_proposals.npy'. Skipping.\n",
      "Labeled proposals for 'img-129' not found at '/home/arth/Desktop/various/CV/poster3/Potholes/Potholes/NMS/Labeled_Proposals_EB/img-129_labeled_proposals.npy'. Skipping.\n",
      "Labeled proposals for 'img-191' not found at '/home/arth/Desktop/various/CV/poster3/Potholes/Potholes/NMS/Labeled_Proposals_EB/img-191_labeled_proposals.npy'. Skipping.\n",
      "Labeled proposals for 'img-85' not found at '/home/arth/Desktop/various/CV/poster3/Potholes/Potholes/NMS/Labeled_Proposals_EB/img-85_labeled_proposals.npy'. Skipping.\n",
      "Labeled proposals for 'img-48' not found at '/home/arth/Desktop/various/CV/poster3/Potholes/Potholes/NMS/Labeled_Proposals_EB/img-48_labeled_proposals.npy'. Skipping.\n",
      "Labeled proposals for 'img-130' not found at '/home/arth/Desktop/various/CV/poster3/Potholes/Potholes/NMS/Labeled_Proposals_EB/img-130_labeled_proposals.npy'. Skipping.\n",
      "Labeled proposals for 'img-224' not found at '/home/arth/Desktop/various/CV/poster3/Potholes/Potholes/NMS/Labeled_Proposals_EB/img-224_labeled_proposals.npy'. Skipping.\n",
      "Labeled proposals for 'img-69' not found at '/home/arth/Desktop/various/CV/poster3/Potholes/Potholes/NMS/Labeled_Proposals_EB/img-69_labeled_proposals.npy'. Skipping.\n",
      "Labeled proposals for 'img-134' not found at '/home/arth/Desktop/various/CV/poster3/Potholes/Potholes/NMS/Labeled_Proposals_EB/img-134_labeled_proposals.npy'. Skipping.\n",
      "Labeled proposals for 'img-61' not found at '/home/arth/Desktop/various/CV/poster3/Potholes/Potholes/NMS/Labeled_Proposals_EB/img-61_labeled_proposals.npy'. Skipping.\n",
      "Loaded 14406 samples for dataset with 425 image IDs.\n",
      "Labeled proposals for 'img-273' not found at '/home/arth/Desktop/various/CV/poster3/Potholes/Potholes/NMS/Labeled_Proposals_EB/img-273_labeled_proposals.npy'. Skipping.\n",
      "Loaded 3622 samples for dataset with 107 image IDs.\n",
      "Labeled proposals for 'img-138' not found at '/home/arth/Desktop/various/CV/poster3/Potholes/Potholes/NMS/Labeled_Proposals_EB/img-138_labeled_proposals.npy'. Skipping.\n",
      "Labeled proposals for 'img-147' not found at '/home/arth/Desktop/various/CV/poster3/Potholes/Potholes/NMS/Labeled_Proposals_EB/img-147_labeled_proposals.npy'. Skipping.\n",
      "Labeled proposals for 'img-9' not found at '/home/arth/Desktop/various/CV/poster3/Potholes/Potholes/NMS/Labeled_Proposals_EB/img-9_labeled_proposals.npy'. Skipping.\n",
      "Labeled proposals for 'img-22' not found at '/home/arth/Desktop/various/CV/poster3/Potholes/Potholes/NMS/Labeled_Proposals_EB/img-22_labeled_proposals.npy'. Skipping.\n",
      "Loaded 4453 samples for dataset with 133 image IDs.\n"
     ]
    },
    {
     "name": "stderr",
     "output_type": "stream",
     "text": [
      "/home/arth/anaconda3/envs/dtu0/lib/python3.10/site-packages/torchvision/models/_utils.py:208: UserWarning: The parameter 'pretrained' is deprecated since 0.13 and may be removed in the future, please use 'weights' instead.\n",
      "  warnings.warn(\n",
      "/home/arth/anaconda3/envs/dtu0/lib/python3.10/site-packages/torchvision/models/_utils.py:223: UserWarning: Arguments other than a weight enum or `None` for 'weights' are deprecated since 0.13 and may be removed in the future. The current behavior is equivalent to passing `weights=ResNet18_Weights.IMAGENET1K_V1`. You can also use `weights=ResNet18_Weights.DEFAULT` to get the most up-to-date weights.\n",
      "  warnings.warn(msg)\n"
     ]
    },
    {
     "name": "stdout",
     "output_type": "stream",
     "text": [
      "Number of training samples: 14406\n",
      "Number of validation samples: 3622\n",
      "Number of testing samples: 4453\n"
     ]
    },
    {
     "name": "stderr",
     "output_type": "stream",
     "text": [
      "Epoch 1/10: 100%|██████████| 55/55 [01:10<00:00,  1.28s/batch, Loss=0.0297]\n"
     ]
    },
    {
     "name": "stdout",
     "output_type": "stream",
     "text": [
      "Epoch [1/10], Train Loss: 0.0637, Train Acc: 0.7920, Val Loss: 0.8880, Val Acc: 0.9083\n",
      "\n"
     ]
    },
    {
     "name": "stderr",
     "output_type": "stream",
     "text": [
      "Epoch 2/10: 100%|██████████| 55/55 [01:09<00:00,  1.27s/batch, Loss=0.0195] \n"
     ]
    },
    {
     "name": "stdout",
     "output_type": "stream",
     "text": [
      "Epoch [2/10], Train Loss: 0.0113, Train Acc: 0.9541, Val Loss: 1.0619, Val Acc: 0.9440\n",
      "\n"
     ]
    },
    {
     "name": "stderr",
     "output_type": "stream",
     "text": [
      "Epoch 3/10: 100%|██████████| 55/55 [01:09<00:00,  1.27s/batch, Loss=0.00294]\n"
     ]
    },
    {
     "name": "stdout",
     "output_type": "stream",
     "text": [
      "Epoch [3/10], Train Loss: 0.0062, Train Acc: 0.9771, Val Loss: 1.0242, Val Acc: 0.9456\n",
      "\n"
     ]
    },
    {
     "name": "stderr",
     "output_type": "stream",
     "text": [
      "Epoch 4/10: 100%|██████████| 55/55 [01:09<00:00,  1.27s/batch, Loss=0.00116] \n"
     ]
    },
    {
     "name": "stdout",
     "output_type": "stream",
     "text": [
      "Epoch [4/10], Train Loss: 0.0047, Train Acc: 0.9813, Val Loss: 1.3582, Val Acc: 0.9680\n",
      "\n"
     ]
    },
    {
     "name": "stderr",
     "output_type": "stream",
     "text": [
      "Epoch 5/10: 100%|██████████| 55/55 [01:09<00:00,  1.27s/batch, Loss=0.00378] \n"
     ]
    },
    {
     "name": "stdout",
     "output_type": "stream",
     "text": [
      "Epoch [5/10], Train Loss: 0.0023, Train Acc: 0.9913, Val Loss: 1.2738, Val Acc: 0.9619\n",
      "\n"
     ]
    },
    {
     "name": "stderr",
     "output_type": "stream",
     "text": [
      "Epoch 6/10: 100%|██████████| 55/55 [01:10<00:00,  1.28s/batch, Loss=0.0019]  \n"
     ]
    },
    {
     "name": "stdout",
     "output_type": "stream",
     "text": [
      "Epoch [6/10], Train Loss: 0.0008, Train Acc: 0.9974, Val Loss: 1.3791, Val Acc: 0.9699\n",
      "\n"
     ]
    },
    {
     "name": "stderr",
     "output_type": "stream",
     "text": [
      "Epoch 7/10: 100%|██████████| 55/55 [01:10<00:00,  1.28s/batch, Loss=0.000185]\n"
     ]
    },
    {
     "name": "stdout",
     "output_type": "stream",
     "text": [
      "Epoch [7/10], Train Loss: 0.0005, Train Acc: 0.9979, Val Loss: 1.7893, Val Acc: 0.9754\n",
      "\n"
     ]
    },
    {
     "name": "stderr",
     "output_type": "stream",
     "text": [
      "Epoch 8/10: 100%|██████████| 55/55 [01:09<00:00,  1.27s/batch, Loss=5.97e-5] \n"
     ]
    },
    {
     "name": "stdout",
     "output_type": "stream",
     "text": [
      "Epoch [8/10], Train Loss: 0.0002, Train Acc: 0.9994, Val Loss: 1.8730, Val Acc: 0.9768\n",
      "\n"
     ]
    },
    {
     "name": "stderr",
     "output_type": "stream",
     "text": [
      "Epoch 9/10: 100%|██████████| 55/55 [01:09<00:00,  1.26s/batch, Loss=1.4e-5]  \n"
     ]
    },
    {
     "name": "stdout",
     "output_type": "stream",
     "text": [
      "Epoch [9/10], Train Loss: 0.0001, Train Acc: 0.9999, Val Loss: 1.7961, Val Acc: 0.9754\n",
      "\n"
     ]
    },
    {
     "name": "stderr",
     "output_type": "stream",
     "text": [
      "Epoch 10/10: 100%|██████████| 55/55 [01:08<00:00,  1.25s/batch, Loss=0.000169]\n"
     ]
    },
    {
     "name": "stdout",
     "output_type": "stream",
     "text": [
      "Epoch [10/10], Train Loss: 0.0001, Train Acc: 0.9997, Val Loss: 2.1347, Val Acc: 0.9768\n",
      "\n",
      "Test Loss: 2.1639, Test Accuracy: 0.9802\n",
      "Model saved as 'proposal_classifier_resnet.pth'.\n"
     ]
    },
    {
     "data": {
      "image/png": "[encoded data removed]",
      "text/plain": [
       "<Figure size 1200x500 with 2 Axes>"
      ]
     },
     "metadata": {},
     "output_type": "display_data"
    },
    {
     "data": {
      "image/png": "[encoded data removed]",
      "text/plain": [
       "<Figure size 640x480 with 2 Axes>"
      ]
     },
     "metadata": {},
     "output_type": "display_data"
    }
   ],
   "source": [
    "def main():\n",
    "    # Directories (update paths accordingly)\n",
    "    labeled_proposals_dir = '/home/arth/Desktop/various/CV/poster3/Potholes/Potholes/NMS/Labeled_Proposals_EB'\n",
    "    images_dir = 'Potholes/Potholes/annotated-images'\n",
    "    splits_file = '/home/arth/Desktop/various/CV/poster3/Potholes/Potholes/splits.json'\n",
    "\n",
    "    # Hyperparameters\n",
    "    num_epochs = 10\n",
    "    batch_size = 264\n",
    "    learning_rate = 0.001\n",
    "\n",
    "    # Device configuration\n",
    "    device = torch.device('cuda' if torch.cuda.is_available() else 'cpu')\n",
    "\n",
    "    # Get DataLoaders\n",
    "    train_loader, val_loader, test_loader, num_classes, label_encoder, class_weights = get_data_loaders(\n",
    "        labeled_proposals_dir, images_dir, splits_file, batch_size=batch_size\n",
    "    )\n",
    "\n",
    "    # Initialize pre-trained ResNet model\n",
    "    model = ProposalClassifierResNet(num_classes, pretrained=True)\n",
    "    model = model.to(device)\n",
    "    \n",
    "    # Optionally, fine-tune some layers\n",
    "    # Example: Unfreeze layer4\n",
    "    for name, param in model.model.named_parameters():\n",
    "        if \"layer4\" in name:\n",
    "            param.requires_grad = True\n",
    "\n",
    "    # Define loss and optimizer\n",
    "    class_weights_tensor = class_weights.to(device)\n",
    "    criterion = nn.CrossEntropyLoss(weight=class_weights_tensor)\n",
    "    \n",
    "    # Only parameters that require gradients are passed to the optimizer\n",
    "    optimizer = optim.Adam(filter(lambda p: p.requires_grad, model.parameters()), lr=learning_rate)\n",
    "\n",
    "    # Train the model\n",
    "    model, history = train_model(model, train_loader, val_loader, num_epochs, criterion, optimizer, device)\n",
    "\n",
    "    # Evaluate on test set\n",
    "    test_loss, test_acc = evaluate_model(model, test_loader, criterion, device)\n",
    "    print(f'Test Loss: {test_loss:.4f}, Test Accuracy: {test_acc:.4f}')\n",
    "\n",
    "    # Save the model\n",
    "    torch.save(model.state_dict(), 'proposal_classifier_resnet_NMS_box.pth')\n",
    "    print(\"Model saved as 'proposal_classifier_resnet.pth'.\")\n",
    "\n",
    "    # Plot training history and confusion matrix\n",
    "    plot_training_history(history)\n",
    "    plot_confusion_matrix(model, val_loader, label_encoder, device)\n",
    "\n",
    "if __name__ == \"__main__\":\n",
    "    main()"
   ]
  },
  {
   "cell_type": "markdown",
   "metadata": {},
   "source": [
    "VGG16"
   ]
  },
  {
   "cell_type": "code",
   "execution_count": 14,
   "metadata": {},
   "outputs": [],
   "source": [
    "class ProposalClassifierVGG16(nn.Module):\n",
    "    def __init__(self, num_classes, pretrained=True, freeze_features=True):\n",
    "        super(ProposalClassifierVGG16, self).__init__()\n",
    "        # Load pre-trained VGG16 model\n",
    "        self.model = models.vgg16(pretrained=pretrained)\n",
    "        \n",
    "        if freeze_features:\n",
    "            # Freeze feature extraction layers\n",
    "            for param in self.model.features.parameters():\n",
    "                param.requires_grad = False\n",
    "        \n",
    "        # Modify the classifier to match num_classes\n",
    "        # Original classifier: [4096, 4096, 1000]\n",
    "        self.model.classifier[6] = nn.Linear(self.model.classifier[6].in_features, num_classes)\n",
    "    \n",
    "    def forward(self, x):\n",
    "        return self.model(x)\n"
   ]
  },
  {
   "cell_type": "code",
   "execution_count": 15,
   "metadata": {},
   "outputs": [
    {
     "name": "stdout",
     "output_type": "stream",
     "text": [
      "Using device: cuda\n",
      "Labeled proposals for 'img-71' not found at '/home/arth/Desktop/various/CV/poster3/Potholes/Potholes/NMS/Labeled_Proposals_EB/img-71_labeled_proposals.npy'. Skipping.\n",
      "Labeled proposals for 'img-129' not found at '/home/arth/Desktop/various/CV/poster3/Potholes/Potholes/NMS/Labeled_Proposals_EB/img-129_labeled_proposals.npy'. Skipping.\n",
      "Labeled proposals for 'img-191' not found at '/home/arth/Desktop/various/CV/poster3/Potholes/Potholes/NMS/Labeled_Proposals_EB/img-191_labeled_proposals.npy'. Skipping.\n",
      "Labeled proposals for 'img-85' not found at '/home/arth/Desktop/various/CV/poster3/Potholes/Potholes/NMS/Labeled_Proposals_EB/img-85_labeled_proposals.npy'. Skipping.\n",
      "Labeled proposals for 'img-48' not found at '/home/arth/Desktop/various/CV/poster3/Potholes/Potholes/NMS/Labeled_Proposals_EB/img-48_labeled_proposals.npy'. Skipping.\n",
      "Labeled proposals for 'img-130' not found at '/home/arth/Desktop/various/CV/poster3/Potholes/Potholes/NMS/Labeled_Proposals_EB/img-130_labeled_proposals.npy'. Skipping.\n",
      "Labeled proposals for 'img-224' not found at '/home/arth/Desktop/various/CV/poster3/Potholes/Potholes/NMS/Labeled_Proposals_EB/img-224_labeled_proposals.npy'. Skipping.\n",
      "Labeled proposals for 'img-69' not found at '/home/arth/Desktop/various/CV/poster3/Potholes/Potholes/NMS/Labeled_Proposals_EB/img-69_labeled_proposals.npy'. Skipping.\n",
      "Labeled proposals for 'img-134' not found at '/home/arth/Desktop/various/CV/poster3/Potholes/Potholes/NMS/Labeled_Proposals_EB/img-134_labeled_proposals.npy'. Skipping.\n",
      "Labeled proposals for 'img-61' not found at '/home/arth/Desktop/various/CV/poster3/Potholes/Potholes/NMS/Labeled_Proposals_EB/img-61_labeled_proposals.npy'. Skipping.\n",
      "Loaded 14406 samples for dataset with 425 image IDs.\n",
      "Labeled proposals for 'img-273' not found at '/home/arth/Desktop/various/CV/poster3/Potholes/Potholes/NMS/Labeled_Proposals_EB/img-273_labeled_proposals.npy'. Skipping.\n",
      "Loaded 3622 samples for dataset with 107 image IDs.\n",
      "Labeled proposals for 'img-138' not found at '/home/arth/Desktop/various/CV/poster3/Potholes/Potholes/NMS/Labeled_Proposals_EB/img-138_labeled_proposals.npy'. Skipping.\n",
      "Labeled proposals for 'img-147' not found at '/home/arth/Desktop/various/CV/poster3/Potholes/Potholes/NMS/Labeled_Proposals_EB/img-147_labeled_proposals.npy'. Skipping.\n",
      "Labeled proposals for 'img-9' not found at '/home/arth/Desktop/various/CV/poster3/Potholes/Potholes/NMS/Labeled_Proposals_EB/img-9_labeled_proposals.npy'. Skipping.\n",
      "Labeled proposals for 'img-22' not found at '/home/arth/Desktop/various/CV/poster3/Potholes/Potholes/NMS/Labeled_Proposals_EB/img-22_labeled_proposals.npy'. Skipping.\n",
      "Loaded 4453 samples for dataset with 133 image IDs.\n",
      "Number of training samples: 14406\n",
      "Number of validation samples: 3622\n",
      "Number of testing samples: 4453\n"
     ]
    },
    {
     "name": "stderr",
     "output_type": "stream",
     "text": [
      "/home/arth/anaconda3/envs/dtu0/lib/python3.10/site-packages/torchvision/models/_utils.py:208: UserWarning: The parameter 'pretrained' is deprecated since 0.13 and may be removed in the future, please use 'weights' instead.\n",
      "  warnings.warn(\n",
      "/home/arth/anaconda3/envs/dtu0/lib/python3.10/site-packages/torchvision/models/_utils.py:223: UserWarning: Arguments other than a weight enum or `None` for 'weights' are deprecated since 0.13 and may be removed in the future. The current behavior is equivalent to passing `weights=VGG16_Weights.IMAGENET1K_V1`. You can also use `weights=VGG16_Weights.DEFAULT` to get the most up-to-date weights.\n",
      "  warnings.warn(msg)\n",
      "Epoch 1/10: 100%|██████████| 55/55 [02:08<00:00,  2.34s/batch, Loss=0.362]\n"
     ]
    },
    {
     "name": "stdout",
     "output_type": "stream",
     "text": [
      "Epoch [1/10], Train Loss: 0.6875, Train Acc: 0.7306, Val Loss: 0.3191, Val Acc: 0.8595\n",
      "\n"
     ]
    },
    {
     "name": "stderr",
     "output_type": "stream",
     "text": [
      "Epoch 2/10: 100%|██████████| 55/55 [02:09<00:00,  2.35s/batch, Loss=0.191]\n"
     ]
    },
    {
     "name": "stdout",
     "output_type": "stream",
     "text": [
      "Epoch [2/10], Train Loss: 0.2683, Train Acc: 0.8843, Val Loss: 0.1374, Val Acc: 0.9547\n",
      "\n"
     ]
    },
    {
     "name": "stderr",
     "output_type": "stream",
     "text": [
      "Epoch 3/10:  29%|██▉       | 16/55 [00:39<01:37,  2.50s/batch, Loss=0.102]\n"
     ]
    },
    {
     "ename": "KeyboardInterrupt",
     "evalue": "",
     "output_type": "error",
     "traceback": [
      "\u001b[0;31m---------------------------------------------------------------------------\u001b[0m",
      "\u001b[0;31mKeyboardInterrupt\u001b[0m                         Traceback (most recent call last)",
      "Cell \u001b[0;32mIn[15], line 49\u001b[0m\n\u001b[1;32m     47\u001b[0m     plot_confusion_matrix(model, val_loader, label_encoder, device)\n\u001b[1;32m     48\u001b[0m \u001b[38;5;28;01mif\u001b[39;00m \u001b[38;5;18m__name__\u001b[39m \u001b[38;5;241m==\u001b[39m \u001b[38;5;124m\"\u001b[39m\u001b[38;5;124m__main__\u001b[39m\u001b[38;5;124m\"\u001b[39m:\n\u001b[0;32m---> 49\u001b[0m     \u001b[43mmain\u001b[49m\u001b[43m(\u001b[49m\u001b[43m)\u001b[49m\n",
      "Cell \u001b[0;32mIn[15], line 35\u001b[0m, in \u001b[0;36mmain\u001b[0;34m()\u001b[0m\n\u001b[1;32m     32\u001b[0m optimizer \u001b[38;5;241m=\u001b[39m optim\u001b[38;5;241m.\u001b[39mAdam(\u001b[38;5;28mfilter\u001b[39m(\u001b[38;5;28;01mlambda\u001b[39;00m p: p\u001b[38;5;241m.\u001b[39mrequires_grad, model\u001b[38;5;241m.\u001b[39mparameters()), lr\u001b[38;5;241m=\u001b[39mlearning_rate)\n\u001b[1;32m     34\u001b[0m \u001b[38;5;66;03m# Train the model\u001b[39;00m\n\u001b[0;32m---> 35\u001b[0m model, history \u001b[38;5;241m=\u001b[39m \u001b[43mtrain_model\u001b[49m\u001b[43m(\u001b[49m\u001b[43mmodel\u001b[49m\u001b[43m,\u001b[49m\u001b[43m \u001b[49m\u001b[43mtrain_loader\u001b[49m\u001b[43m,\u001b[49m\u001b[43m \u001b[49m\u001b[43mval_loader\u001b[49m\u001b[43m,\u001b[49m\u001b[43m \u001b[49m\u001b[43mnum_epochs\u001b[49m\u001b[43m,\u001b[49m\u001b[43m \u001b[49m\u001b[43mcriterion\u001b[49m\u001b[43m,\u001b[49m\u001b[43m \u001b[49m\u001b[43moptimizer\u001b[49m\u001b[43m,\u001b[49m\u001b[43m \u001b[49m\u001b[43mdevice\u001b[49m\u001b[43m)\u001b[49m\n\u001b[1;32m     37\u001b[0m \u001b[38;5;66;03m# Evaluate on test set\u001b[39;00m\n\u001b[1;32m     38\u001b[0m test_loss, test_acc \u001b[38;5;241m=\u001b[39m evaluate_model(model, test_loader, criterion, device)\n",
      "Cell \u001b[0;32mIn[7], line 23\u001b[0m, in \u001b[0;36mtrain_model\u001b[0;34m(model, train_loader, val_loader, num_epochs, criterion, optimizer, device)\u001b[0m\n\u001b[1;32m     20\u001b[0m loss\u001b[38;5;241m.\u001b[39mbackward()\n\u001b[1;32m     21\u001b[0m optimizer\u001b[38;5;241m.\u001b[39mstep()\n\u001b[0;32m---> 23\u001b[0m running_loss \u001b[38;5;241m+\u001b[39m\u001b[38;5;241m=\u001b[39m \u001b[43mloss\u001b[49m\u001b[38;5;241;43m.\u001b[39;49m\u001b[43mitem\u001b[49m\u001b[43m(\u001b[49m\u001b[43m)\u001b[49m \u001b[38;5;241m*\u001b[39m images\u001b[38;5;241m.\u001b[39msize(\u001b[38;5;241m0\u001b[39m)\n\u001b[1;32m     24\u001b[0m _, predicted \u001b[38;5;241m=\u001b[39m torch\u001b[38;5;241m.\u001b[39mmax(outputs\u001b[38;5;241m.\u001b[39mdata, \u001b[38;5;241m1\u001b[39m)\n\u001b[1;32m     25\u001b[0m total_correct \u001b[38;5;241m+\u001b[39m\u001b[38;5;241m=\u001b[39m (predicted \u001b[38;5;241m==\u001b[39m labels)\u001b[38;5;241m.\u001b[39msum()\u001b[38;5;241m.\u001b[39mitem()\n",
      "\u001b[0;31mKeyboardInterrupt\u001b[0m: "
     ]
    }
   ],
   "source": [
    "def main():\n",
    "    # Directories (update paths accordingly)\n",
    "    labeled_proposals_dir = '/home/arth/Desktop/various/CV/poster3/Potholes/Potholes/NMS/Labeled_Proposals_EB'  # Update this path\n",
    "    images_dir = 'Potholes/Potholes/annotated-images'                 # Update this path\n",
    "    splits_file = '/home/arth/Desktop/various/CV/poster3/Potholes/Potholes/splits.json'                     # Update this path\n",
    "\n",
    "    # Hyperparameters\n",
    "    num_epochs = 10\n",
    "    batch_size = 264\n",
    "    learning_rate = 0.001\n",
    "\n",
    "    # Device configuration\n",
    "    device = torch.device('cuda' if torch.cuda.is_available() else 'cpu')\n",
    "    print(f'Using device: {device}')\n",
    "\n",
    "    # Get DataLoaders\n",
    "    #train_loader, val_loader, test_loader, num_classes, label_encoder = get_data_loaders(\n",
    "    #    labeled_proposals_dir, images_dir, splits_file, batch_size=batch_size, background_label='background', background_ratio=0.75\n",
    "    #)\n",
    "    train_loader, val_loader, test_loader, num_classes, label_encoder, class_weights = get_data_loaders(\n",
    "        labeled_proposals_dir, images_dir, splits_file, batch_size=batch_size\n",
    "    )\n",
    "     \n",
    "    # Initialize pre-trained VGG16 model\n",
    "    model = ProposalClassifierVGG16(num_classes=num_classes, pretrained=True, freeze_features=True)\n",
    "    model = model.to(device)\n",
    "\n",
    "    # Define loss and optimizer\n",
    "    criterion = nn.CrossEntropyLoss()\n",
    "    \n",
    "    # Only parameters that require gradients are passed to the optimizer\n",
    "    optimizer = optim.Adam(filter(lambda p: p.requires_grad, model.parameters()), lr=learning_rate)\n",
    "\n",
    "    # Train the model\n",
    "    model, history = train_model(model, train_loader, val_loader, num_epochs, criterion, optimizer, device)\n",
    "\n",
    "    # Evaluate on test set\n",
    "    test_loss, test_acc = evaluate_model(model, test_loader, criterion, device)\n",
    "    print(f'Test Loss: {test_loss:.4f}, Test Accuracy: {test_acc:.4f}')\n",
    "\n",
    "    # Save the model\n",
    "    torch.save(model.state_dict(), 'proposal_classifier_vgg16_NMS_box.pth')\n",
    "    print(\"Model saved as 'proposal_classifier_vgg16_NMS_box.pth'.\")\n",
    "\n",
    "    # Plot training history and confusion matrix\n",
    "    plot_training_history(history)\n",
    "    plot_confusion_matrix(model, val_loader, label_encoder, device)\n",
    "if __name__ == \"__main__\":\n",
    "    main()"
   ]
  },
  {
   "cell_type": "code",
   "execution_count": null,
   "metadata": {},
   "outputs": [],
   "source": []
  }
 ],
 "metadata": {
  "kernelspec": {
   "display_name": "dtu0",
   "language": "python",
   "name": "python3"
  },
  "language_info": {
   "codemirror_mode": {
    "name": "ipython",
    "version": 3
   },
   "file_extension": ".py",
   "mimetype": "text/x-python",
   "name": "python",
   "nbconvert_exporter": "python",
   "pygments_lexer": "ipython3",
   "version": "3.10.15"
  }
 },
 "nbformat": 4,
 "nbformat_minor": 2
}
